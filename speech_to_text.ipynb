{
 "cells": [
  {
   "cell_type": "code",
   "execution_count": 11,
   "id": "324cd894-b1af-485a-96b5-d9539c1a86d3",
   "metadata": {},
   "outputs": [
    {
     "name": "stdout",
     "output_type": "stream",
     "text": [
      "Requirement already satisfied: gTTS in c:\\users\\adity\\anaconda3\\lib\\site-packages (2.5.4)\n",
      "Requirement already satisfied: requests<3,>=2.27 in c:\\users\\adity\\anaconda3\\lib\\site-packages (from gTTS) (2.32.2)\n",
      "Requirement already satisfied: click<8.2,>=7.1 in c:\\users\\adity\\anaconda3\\lib\\site-packages (from gTTS) (8.1.7)\n",
      "Requirement already satisfied: colorama in c:\\users\\adity\\anaconda3\\lib\\site-packages (from click<8.2,>=7.1->gTTS) (0.4.6)\n",
      "Requirement already satisfied: charset-normalizer<4,>=2 in c:\\users\\adity\\anaconda3\\lib\\site-packages (from requests<3,>=2.27->gTTS) (2.0.4)\n",
      "Requirement already satisfied: idna<4,>=2.5 in c:\\users\\adity\\anaconda3\\lib\\site-packages (from requests<3,>=2.27->gTTS) (3.7)\n",
      "Requirement already satisfied: urllib3<3,>=1.21.1 in c:\\users\\adity\\anaconda3\\lib\\site-packages (from requests<3,>=2.27->gTTS) (2.2.2)\n",
      "Requirement already satisfied: certifi>=2017.4.17 in c:\\users\\adity\\anaconda3\\lib\\site-packages (from requests<3,>=2.27->gTTS) (2025.1.31)\n"
     ]
    }
   ],
   "source": [
    "!pip install gTTS"
   ]
  },
  {
   "cell_type": "code",
   "execution_count": 17,
   "id": "91050943-c7b3-4869-8fa7-c578caa1bdc0",
   "metadata": {},
   "outputs": [],
   "source": [
    "from gtts import gTTS"
   ]
  },
  {
   "cell_type": "code",
   "execution_count": 19,
   "id": "645f90e4-7fd1-4407-9827-d04c3e4e01e7",
   "metadata": {},
   "outputs": [],
   "source": [
    "convert = gTTS(text='I like this NLP. How about dude!', lang=\"en\", slow=False)\n",
    "convert.save(\"audio.mp3\")"
   ]
  },
  {
   "cell_type": "code",
   "execution_count": 21,
   "id": "de0620b6-b097-46ae-99b8-935acd800afb",
   "metadata": {},
   "outputs": [
    {
     "name": "stdout",
     "output_type": "stream",
     "text": [
      "Collecting pyttsx3\n",
      "  Downloading pyttsx3-2.98-py3-none-any.whl.metadata (3.8 kB)\n",
      "Collecting comtypes (from pyttsx3)\n",
      "  Downloading comtypes-1.4.10-py3-none-any.whl.metadata (7.2 kB)\n",
      "Collecting pypiwin32 (from pyttsx3)\n",
      "  Downloading pypiwin32-223-py3-none-any.whl.metadata (236 bytes)\n",
      "Requirement already satisfied: pywin32 in c:\\users\\adity\\anaconda3\\lib\\site-packages (from pyttsx3) (305.1)\n",
      "Downloading pyttsx3-2.98-py3-none-any.whl (34 kB)\n",
      "Downloading comtypes-1.4.10-py3-none-any.whl (241 kB)\n",
      "Downloading pypiwin32-223-py3-none-any.whl (1.7 kB)\n",
      "Installing collected packages: pypiwin32, comtypes, pyttsx3\n",
      "Successfully installed comtypes-1.4.10 pypiwin32-223 pyttsx3-2.98\n"
     ]
    }
   ],
   "source": [
    "!pip install pyttsx3"
   ]
  },
  {
   "cell_type": "code",
   "execution_count": 23,
   "id": "78910965-b66b-4bc8-90ed-7d7a5ca69139",
   "metadata": {},
   "outputs": [],
   "source": [
    "import pyttsx3, time\n",
    "engine = pyttsx3.init()\n",
    "engine.say(\"Hi, I am text to speach\")\n",
    "engine.runAndWait()"
   ]
  },
  {
   "cell_type": "code",
   "execution_count": 25,
   "id": "b8bce24a-3e3b-4909-ae2e-752e5d545ab2",
   "metadata": {},
   "outputs": [],
   "source": [
    "text=['This is introduction to NLP', 'It is likely to be useful, to peple ',\\\n",
    "      'Machine learning is the new electricity', 'There would be less hype around AI and more action going forward ',\\\n",
    "      'python is the best tool!','R is good language','I like this book',\\\n",
    "      'I want more books like this']"
   ]
  },
  {
   "cell_type": "code",
   "execution_count": 27,
   "id": "937953c3-793a-4cab-958d-6b57e596733d",
   "metadata": {},
   "outputs": [],
   "source": [
    "engine = pyttsx3.init()\n",
    "engine.say(text)\n",
    "engine.runAndWait()"
   ]
  },
  {
   "cell_type": "code",
   "execution_count": 29,
   "id": "4cd3e156-70f7-46db-96b0-bdc6acdf837e",
   "metadata": {},
   "outputs": [
    {
     "name": "stdout",
     "output_type": "stream",
     "text": [
      "200\n",
      "1.0\n"
     ]
    }
   ],
   "source": [
    "import pyttsx3\n",
    "\n",
    "engine = pyttsx3.init() # object creation\n",
    "\n",
    "\"\"\" RATE\"\"\"\n",
    "rate = engine.getProperty('rate')   # getting details of current speaking rate\n",
    "print (rate)                        #printing current voice rate\n",
    "engine.setProperty('rate', 180)     # setting up new voice rate\n",
    "\n",
    "\"\"\"VOLUME\"\"\"\n",
    "volume = engine.getProperty('volume')   #getting to know current volume level (min=0 and max=1)\n",
    "print (volume)                          #printing current volume level\n",
    "engine.setProperty('volume',1.0)    # setting up volume level  between 0 and 1\n",
    "\n",
    "\"\"\"VOICE\"\"\"\n",
    "voices = engine.getProperty('voices')       #getting details of current voice\n",
    "#engine.setProperty('voice', voices[0].id)  #changing index, changes voices. o for male\n",
    "engine.setProperty('voice', voices[1].id)   #changing index, changes voices. 1 for female\n",
    "\n",
    "engine.say(\"Hello World!\")\n",
    "engine.say('My current speaking rate is ' + str(rate))\n",
    "engine.say('My current speaking volume is ' + str(volume))\n",
    "engine.runAndWait()\n",
    "engine.stop()\n"
   ]
  },
  {
   "cell_type": "code",
   "execution_count": 31,
   "id": "555a4ce6-707a-44ff-9db1-a55aa6cd91e2",
   "metadata": {},
   "outputs": [
    {
     "name": "stdout",
     "output_type": "stream",
     "text": [
      "Collecting translate\n",
      "  Downloading translate-3.6.1-py2.py3-none-any.whl.metadata (7.7 kB)\n",
      "Requirement already satisfied: click in c:\\users\\adity\\anaconda3\\lib\\site-packages (from translate) (8.1.7)\n",
      "Requirement already satisfied: lxml in c:\\users\\adity\\anaconda3\\lib\\site-packages (from translate) (5.2.1)\n",
      "Requirement already satisfied: requests in c:\\users\\adity\\anaconda3\\lib\\site-packages (from translate) (2.32.2)\n",
      "Collecting libretranslatepy==2.1.1 (from translate)\n",
      "  Downloading libretranslatepy-2.1.1-py3-none-any.whl.metadata (233 bytes)\n",
      "Requirement already satisfied: colorama in c:\\users\\adity\\anaconda3\\lib\\site-packages (from click->translate) (0.4.6)\n",
      "Requirement already satisfied: charset-normalizer<4,>=2 in c:\\users\\adity\\anaconda3\\lib\\site-packages (from requests->translate) (2.0.4)\n",
      "Requirement already satisfied: idna<4,>=2.5 in c:\\users\\adity\\anaconda3\\lib\\site-packages (from requests->translate) (3.7)\n",
      "Requirement already satisfied: urllib3<3,>=1.21.1 in c:\\users\\adity\\anaconda3\\lib\\site-packages (from requests->translate) (2.2.2)\n",
      "Requirement already satisfied: certifi>=2017.4.17 in c:\\users\\adity\\anaconda3\\lib\\site-packages (from requests->translate) (2025.1.31)\n",
      "Downloading translate-3.6.1-py2.py3-none-any.whl (12 kB)\n",
      "Downloading libretranslatepy-2.1.1-py3-none-any.whl (3.2 kB)\n",
      "Installing collected packages: libretranslatepy, translate\n",
      "Successfully installed libretranslatepy-2.1.1 translate-3.6.1\n"
     ]
    }
   ],
   "source": [
    "!pip install translate"
   ]
  },
  {
   "cell_type": "code",
   "execution_count": 35,
   "id": "b1ea379a-155d-4164-afbe-be52d8b67893",
   "metadata": {},
   "outputs": [
    {
     "data": {
      "text/plain": [
       "'ಹೇಗಿದ್ದೀರಿ?'"
      ]
     },
     "execution_count": 35,
     "metadata": {},
     "output_type": "execute_result"
    }
   ],
   "source": [
    "from translate import Translator\n",
    "translator= Translator(to_lang=\"kn\")\n",
    "translation = translator.translate(\"How are you?\")\n",
    "translation"
   ]
  },
  {
   "cell_type": "code",
   "execution_count": 37,
   "id": "5eac3702-c922-4991-96a2-53ec19b8a785",
   "metadata": {},
   "outputs": [
    {
     "data": {
      "text/plain": [
       "'O tsogile jang?'"
      ]
     },
     "execution_count": 37,
     "metadata": {},
     "output_type": "execute_result"
    }
   ],
   "source": [
    "from translate import Translator\n",
    "translator= Translator(to_lang=\"tn\")\n",
    "translation = translator.translate(\"How are you?\")\n",
    "translation"
   ]
  },
  {
   "cell_type": "code",
   "execution_count": 39,
   "id": "6bedb4ed-cef1-483b-a37e-cab61cd141e5",
   "metadata": {},
   "outputs": [
    {
     "data": {
      "text/plain": [
       "'كيف حالك؟'"
      ]
     },
     "execution_count": 39,
     "metadata": {},
     "output_type": "execute_result"
    }
   ],
   "source": [
    "from translate import Translator\n",
    "translator= Translator(to_lang=\"ar\")\n",
    "translation = translator.translate(\"How are you?\")\n",
    "translation"
   ]
  },
  {
   "cell_type": "code",
   "execution_count": 43,
   "id": "5721108e-bcc9-4efb-8f5e-c52d3e428eca",
   "metadata": {},
   "outputs": [
    {
     "data": {
      "text/plain": [
       "'आप कैसे हैं?'"
      ]
     },
     "execution_count": 43,
     "metadata": {},
     "output_type": "execute_result"
    }
   ],
   "source": [
    "from translate import Translator\n",
    "translator= Translator(to_lang=\"hi\")\n",
    "translation = translator.translate(\"How are you?\")\n",
    "translation"
   ]
  },
  {
   "cell_type": "code",
   "execution_count": 49,
   "id": "a5cee5c3-5459-4cbc-9a7a-236f7d2e30f5",
   "metadata": {},
   "outputs": [
    {
     "data": {
      "text/plain": [
       "'! Kako si?'"
      ]
     },
     "execution_count": 49,
     "metadata": {},
     "output_type": "execute_result"
    }
   ],
   "source": [
    "from translate import Translator\n",
    "translator= Translator(to_lang=\"sr\")\n",
    "translation = translator.translate(\"How are you?\")\n",
    "translation"
   ]
  },
  {
   "cell_type": "code",
   "execution_count": 51,
   "id": "e56ca427-88ff-4213-8099-cd4c208bc1bf",
   "metadata": {},
   "outputs": [
    {
     "data": {
      "text/plain": [
       "'¿Cómo estás?'"
      ]
     },
     "execution_count": 51,
     "metadata": {},
     "output_type": "execute_result"
    }
   ],
   "source": [
    "from translate import Translator\n",
    "translator= Translator(to_lang=\"es\")\n",
    "translation = translator.translate(\"How are you?\")\n",
    "translation"
   ]
  },
  {
   "cell_type": "code",
   "execution_count": 53,
   "id": "0882a1a6-1632-46b5-9c63-19a18d7cd75a",
   "metadata": {},
   "outputs": [
    {
     "data": {
      "text/plain": [
       "'कशी आहेस?'"
      ]
     },
     "execution_count": 53,
     "metadata": {},
     "output_type": "execute_result"
    }
   ],
   "source": [
    "from translate import Translator\n",
    "translator= Translator(to_lang=\"mr\")\n",
    "translation = translator.translate(\"How are you?\")\n",
    "translation"
   ]
  },
  {
   "cell_type": "markdown",
   "id": "f3c2cf88-ffe2-40e4-83f9-0a1b6fa6594d",
   "metadata": {},
   "source": [
    "PLAY SOUND"
   ]
  },
  {
   "cell_type": "code",
   "execution_count": 64,
   "id": "e4fd0800-bdf3-4fb8-8336-82790b469fd0",
   "metadata": {},
   "outputs": [
    {
     "name": "stdout",
     "output_type": "stream",
     "text": [
      "Collecting python-vlc\n",
      "  Downloading python_vlc-3.0.21203-py3-none-any.whl.metadata (4.1 kB)\n",
      "Downloading python_vlc-3.0.21203-py3-none-any.whl (87 kB)\n",
      "Installing collected packages: python-vlc\n",
      "Successfully installed python-vlc-3.0.21203\n"
     ]
    }
   ],
   "source": [
    "!pip install python-vlc"
   ]
  },
  {
   "cell_type": "code",
   "execution_count": 66,
   "id": "3afd8a92-231d-415a-b9f6-102d1ea41988",
   "metadata": {},
   "outputs": [
    {
     "data": {
      "text/plain": [
       "0"
      ]
     },
     "execution_count": 66,
     "metadata": {},
     "output_type": "execute_result"
    }
   ],
   "source": [
    "import vlc\n",
    "p = vlc.MediaPlayer(\"audio.mp3\")\n",
    "p.play()"
   ]
  },
  {
   "cell_type": "code",
   "execution_count": 68,
   "id": "4715ccb1-3f8d-4367-9a2e-ac763911da54",
   "metadata": {},
   "outputs": [
    {
     "name": "stdout",
     "output_type": "stream",
     "text": [
      "Collecting playsound\n",
      "  Downloading playsound-1.3.0.tar.gz (7.7 kB)\n",
      "  Preparing metadata (setup.py): started\n",
      "  Preparing metadata (setup.py): finished with status 'done'\n",
      "Building wheels for collected packages: playsound\n",
      "  Building wheel for playsound (setup.py): started\n",
      "  Building wheel for playsound (setup.py): finished with status 'done'\n",
      "  Created wheel for playsound: filename=playsound-1.3.0-py3-none-any.whl size=7043 sha256=307a0feda022b1cf368e41a620970596d864f932c6a8ed99ee89f8fc5cdbc13b\n",
      "  Stored in directory: c:\\users\\adity\\appdata\\local\\pip\\cache\\wheels\\cf\\42\\ff\\7c587bae55eec67b909ca316b250d9b4daedbf272a3cbeb907\n",
      "Successfully built playsound\n",
      "Installing collected packages: playsound\n",
      "Successfully installed playsound-1.3.0\n"
     ]
    }
   ],
   "source": [
    "!pip install playsound"
   ]
  },
  {
   "cell_type": "code",
   "execution_count": 122,
   "id": "0d3bee11-1a44-4339-8293-1738b4e50941",
   "metadata": {},
   "outputs": [
    {
     "name": "stderr",
     "output_type": "stream",
     "text": [
      "\n",
      "    Error 259 for command:\n",
      "        play audio.mp3 wait\n",
      "    The driver cannot recognize the specified command parameter.\n"
     ]
    },
    {
     "ename": "PlaysoundException",
     "evalue": "\n    Error 259 for command:\n        play audio.mp3 wait\n    The driver cannot recognize the specified command parameter.",
     "output_type": "error",
     "traceback": [
      "\u001b[1;31m---------------------------------------------------------------------------\u001b[0m",
      "\u001b[1;31mPlaysoundException\u001b[0m                        Traceback (most recent call last)",
      "Cell \u001b[1;32mIn[122], line 2\u001b[0m\n\u001b[0;32m      1\u001b[0m \u001b[38;5;28;01mimport\u001b[39;00m \u001b[38;5;21;01mplaysound\u001b[39;00m \u001b[38;5;28;01mas\u001b[39;00m \u001b[38;5;21;01mpl\u001b[39;00m\n\u001b[1;32m----> 2\u001b[0m \u001b[43mpl\u001b[49m\u001b[38;5;241;43m.\u001b[39;49m\u001b[43mplaysound\u001b[49m\u001b[43m(\u001b[49m\u001b[38;5;124;43m'\u001b[39;49m\u001b[38;5;124;43maudio.mp3\u001b[39;49m\u001b[38;5;124;43m'\u001b[39;49m\u001b[43m)\u001b[49m\n\u001b[0;32m      3\u001b[0m \u001b[38;5;28mprint\u001b[39m(\u001b[38;5;124m'\u001b[39m\u001b[38;5;124mplaying sound using playsound\u001b[39m\u001b[38;5;124m'\u001b[39m)\n",
      "File \u001b[1;32m~\\anaconda3\\Lib\\site-packages\\playsound.py:73\u001b[0m, in \u001b[0;36m_playsoundWin\u001b[1;34m(sound, block)\u001b[0m\n\u001b[0;32m     71\u001b[0m     logger\u001b[38;5;241m.\u001b[39mdebug(\u001b[38;5;124m'\u001b[39m\u001b[38;5;124mStarting\u001b[39m\u001b[38;5;124m'\u001b[39m)\n\u001b[0;32m     72\u001b[0m     winCommand(\u001b[38;5;124mu\u001b[39m\u001b[38;5;124m'\u001b[39m\u001b[38;5;124mopen \u001b[39m\u001b[38;5;132;01m{}\u001b[39;00m\u001b[38;5;124m'\u001b[39m\u001b[38;5;241m.\u001b[39mformat(sound))\n\u001b[1;32m---> 73\u001b[0m     \u001b[43mwinCommand\u001b[49m\u001b[43m(\u001b[49m\u001b[38;5;124;43mu\u001b[39;49m\u001b[38;5;124;43m'\u001b[39;49m\u001b[38;5;124;43mplay \u001b[39;49m\u001b[38;5;132;43;01m{}\u001b[39;49;00m\u001b[38;5;132;43;01m{}\u001b[39;49;00m\u001b[38;5;124;43m'\u001b[39;49m\u001b[38;5;241;43m.\u001b[39;49m\u001b[43mformat\u001b[49m\u001b[43m(\u001b[49m\u001b[43msound\u001b[49m\u001b[43m,\u001b[49m\u001b[43m \u001b[49m\u001b[38;5;124;43m'\u001b[39;49m\u001b[38;5;124;43m wait\u001b[39;49m\u001b[38;5;124;43m'\u001b[39;49m\u001b[43m \u001b[49m\u001b[38;5;28;43;01mif\u001b[39;49;00m\u001b[43m \u001b[49m\u001b[43mblock\u001b[49m\u001b[43m \u001b[49m\u001b[38;5;28;43;01melse\u001b[39;49;00m\u001b[43m \u001b[49m\u001b[38;5;124;43m'\u001b[39;49m\u001b[38;5;124;43m'\u001b[39;49m\u001b[43m)\u001b[49m\u001b[43m)\u001b[49m\n\u001b[0;32m     74\u001b[0m     logger\u001b[38;5;241m.\u001b[39mdebug(\u001b[38;5;124m'\u001b[39m\u001b[38;5;124mReturning\u001b[39m\u001b[38;5;124m'\u001b[39m)\n\u001b[0;32m     75\u001b[0m \u001b[38;5;28;01mfinally\u001b[39;00m:\n",
      "File \u001b[1;32m~\\anaconda3\\Lib\\site-packages\\playsound.py:64\u001b[0m, in \u001b[0;36m_playsoundWin.<locals>.winCommand\u001b[1;34m(*command)\u001b[0m\n\u001b[0;32m     60\u001b[0m     exceptionMessage \u001b[38;5;241m=\u001b[39m (\u001b[38;5;124m'\u001b[39m\u001b[38;5;130;01m\\n\u001b[39;00m\u001b[38;5;124m    Error \u001b[39m\u001b[38;5;124m'\u001b[39m \u001b[38;5;241m+\u001b[39m \u001b[38;5;28mstr\u001b[39m(errorCode) \u001b[38;5;241m+\u001b[39m \u001b[38;5;124m'\u001b[39m\u001b[38;5;124m for command:\u001b[39m\u001b[38;5;124m'\u001b[39m\n\u001b[0;32m     61\u001b[0m                         \u001b[38;5;124m'\u001b[39m\u001b[38;5;130;01m\\n\u001b[39;00m\u001b[38;5;124m        \u001b[39m\u001b[38;5;124m'\u001b[39m \u001b[38;5;241m+\u001b[39m command\u001b[38;5;241m.\u001b[39mdecode(\u001b[38;5;124m'\u001b[39m\u001b[38;5;124mutf-16\u001b[39m\u001b[38;5;124m'\u001b[39m) \u001b[38;5;241m+\u001b[39m\n\u001b[0;32m     62\u001b[0m                         \u001b[38;5;124m'\u001b[39m\u001b[38;5;130;01m\\n\u001b[39;00m\u001b[38;5;124m    \u001b[39m\u001b[38;5;124m'\u001b[39m \u001b[38;5;241m+\u001b[39m errorBuffer\u001b[38;5;241m.\u001b[39mraw\u001b[38;5;241m.\u001b[39mdecode(\u001b[38;5;124m'\u001b[39m\u001b[38;5;124mutf-16\u001b[39m\u001b[38;5;124m'\u001b[39m)\u001b[38;5;241m.\u001b[39mrstrip(\u001b[38;5;124m'\u001b[39m\u001b[38;5;130;01m\\0\u001b[39;00m\u001b[38;5;124m'\u001b[39m))\n\u001b[0;32m     63\u001b[0m     logger\u001b[38;5;241m.\u001b[39merror(exceptionMessage)\n\u001b[1;32m---> 64\u001b[0m     \u001b[38;5;28;01mraise\u001b[39;00m PlaysoundException(exceptionMessage)\n\u001b[0;32m     65\u001b[0m \u001b[38;5;28;01mreturn\u001b[39;00m buf\u001b[38;5;241m.\u001b[39mvalue\n",
      "\u001b[1;31mPlaysoundException\u001b[0m: \n    Error 259 for command:\n        play audio.mp3 wait\n    The driver cannot recognize the specified command parameter."
     ]
    }
   ],
   "source": [
    "import playsound as pl\n",
    "pl.playsound('audio.mp3')\n",
    "print('playing sound using playsound')"
   ]
  },
  {
   "cell_type": "code",
   "execution_count": 126,
   "id": "eaf85fa0-75da-4184-a386-b9d1f29c5ff6",
   "metadata": {},
   "outputs": [
    {
     "data": {
      "text/plain": [
       "\u001b[1;31mSignature:\u001b[0m \u001b[0mpl\u001b[0m\u001b[1;33m.\u001b[0m\u001b[0mplaysound\u001b[0m\u001b[1;33m(\u001b[0m\u001b[0msound\u001b[0m\u001b[1;33m,\u001b[0m \u001b[0mblock\u001b[0m\u001b[1;33m=\u001b[0m\u001b[1;32mTrue\u001b[0m\u001b[1;33m)\u001b[0m\u001b[1;33m\u001b[0m\u001b[1;33m\u001b[0m\u001b[0m\n",
       "\u001b[1;31mDocstring:\u001b[0m\n",
       "Utilizes windll.winmm. Tested and known to work with MP3 and WAVE on\n",
       "Windows 7 with Python 2.7. Probably works with more file formats.\n",
       "Probably works on Windows XP thru Windows 10. Probably works with all\n",
       "versions of Python.\n",
       "\n",
       "Inspired by (but not copied from) Michael Gundlach <gundlach@gmail.com>'s mp3play:\n",
       "https://github.com/michaelgundlach/mp3play\n",
       "\n",
       "I never would have tried using windll.winmm without seeing his code.\n",
       "\u001b[1;31mFile:\u001b[0m      c:\\users\\adity\\anaconda3\\lib\\site-packages\\playsound.py\n",
       "\u001b[1;31mType:\u001b[0m      function"
      ]
     },
     "metadata": {},
     "output_type": "display_data"
    }
   ],
   "source": [
    "import playsound as pl\n",
    "pl.playsound?"
   ]
  },
  {
   "cell_type": "code",
   "execution_count": 118,
   "id": "270c5b8d-c959-4487-a23d-ceea4b1d61df",
   "metadata": {},
   "outputs": [
    {
     "name": "stdout",
     "output_type": "stream",
     "text": [
      "Collecting SpeechRecognition\n",
      "  Downloading SpeechRecognition-3.14.1-py3-none-any.whl.metadata (31 kB)\n",
      "Requirement already satisfied: typing-extensions in c:\\users\\adity\\anaconda3\\lib\\site-packages (from SpeechRecognition) (4.11.0)\n",
      "Downloading SpeechRecognition-3.14.1-py3-none-any.whl (32.9 MB)\n",
      "   ---------------------------------------- 0.0/32.9 MB ? eta -:--:--\n",
      "   ----- ---------------------------------- 4.5/32.9 MB 29.7 MB/s eta 0:00:01\n",
      "   ---------------- ----------------------- 13.9/32.9 MB 38.0 MB/s eta 0:00:01\n",
      "   ------------------------------ --------- 25.2/32.9 MB 43.1 MB/s eta 0:00:01\n",
      "   ---------------------------------------  32.2/32.9 MB 40.1 MB/s eta 0:00:01\n",
      "   ---------------------------------------- 32.9/32.9 MB 36.0 MB/s eta 0:00:00\n",
      "Installing collected packages: SpeechRecognition\n",
      "Successfully installed SpeechRecognition-3.14.1\n"
     ]
    }
   ],
   "source": [
    "!pip install SpeechRecognition"
   ]
  },
  {
   "cell_type": "code",
   "execution_count": 109,
   "id": "2385fde0-273c-4202-a6e8-41b75e2054ad",
   "metadata": {},
   "outputs": [
    {
     "name": "stdout",
     "output_type": "stream",
     "text": [
      "Requirement already satisfied: pyAudio in c:\\users\\adity\\anaconda3\\lib\\site-packages (0.2.14)\n"
     ]
    }
   ],
   "source": [
    "!pip install pyAudio"
   ]
  },
  {
   "cell_type": "code",
   "execution_count": 120,
   "id": "52250ad8-b117-4a15-b8f5-529f1bb87436",
   "metadata": {},
   "outputs": [
    {
     "name": "stdout",
     "output_type": "stream",
     "text": [
      "Please say something\n"
     ]
    }
   ],
   "source": [
    "import speech_recognition as sr\n",
    "r=sr.Recognizer()\n",
    "with sr.Microphone() as source:\n",
    "    print(\"Please say something\")\n",
    "    audio = r.listen(source)\n",
    "    #print(\"Time over, thanks\")\n",
    "try:\n",
    "    print(\"I think you said: \"+r.recognize_google(audio));\n",
    "except:\n",
    "    pass"
   ]
  },
  {
   "cell_type": "code",
   "execution_count": null,
   "id": "545fd0e3-a4e0-4ee1-baf8-3c2fea8fc5ee",
   "metadata": {},
   "outputs": [],
   "source": []
  }
 ],
 "metadata": {
  "kernelspec": {
   "display_name": "Python 3 (ipykernel)",
   "language": "python",
   "name": "python3"
  },
  "language_info": {
   "codemirror_mode": {
    "name": "ipython",
    "version": 3
   },
   "file_extension": ".py",
   "mimetype": "text/x-python",
   "name": "python",
   "nbconvert_exporter": "python",
   "pygments_lexer": "ipython3",
   "version": "3.12.4"
  }
 },
 "nbformat": 4,
 "nbformat_minor": 5
}
